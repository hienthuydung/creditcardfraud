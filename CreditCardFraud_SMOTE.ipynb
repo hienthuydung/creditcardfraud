{
 "cells": [
  {
   "cell_type": "markdown",
   "metadata": {},
   "source": [
    "# Classification with oversampled data (SMOTE)"
   ]
  },
  {
   "cell_type": "code",
   "execution_count": 1,
   "metadata": {},
   "outputs": [],
   "source": [
    "# import modules\n",
    "\n",
    "import h5py\n",
    "import warnings\n",
    "import numpy as np\n",
    "import pandas as pd\n",
    "import seaborn as sns\n",
    "import tensorflow as tf\n",
    "import matplotlib.pyplot as plt\n",
    "from imblearn.over_sampling import SMOTE\n",
    "from sklearn.preprocessing import RobustScaler\n",
    "from sklearn.model_selection import train_test_split, GridSearchCV, cross_val_score\n",
    "from sklearn.metrics import confusion_matrix, f1_score, precision_score, recall_score, precision_recall_curve\n",
    "from sklearn.metrics import precision_recall_fscore_support, classification_report, make_scorer\n",
    "from keras.wrappers.scikit_learn import KerasClassifier\n",
    "from keras.models import Sequential, load_model\n",
    "from keras.layers import Dense, LeakyReLU\n",
    "from keras.callbacks import EarlyStopping, ModelCheckpoint"
   ]
  },
  {
   "cell_type": "code",
   "execution_count": 2,
   "metadata": {},
   "outputs": [],
   "source": [
    "# read in data\n",
    "\n",
    "data = pd.read_csv(r\"C:\\Users\\hien\\Desktop\\masterdata\\creditcard.csv\")"
   ]
  },
  {
   "cell_type": "markdown",
   "metadata": {},
   "source": [
    "## Data preprocessing"
   ]
  },
  {
   "cell_type": "code",
   "execution_count": 3,
   "metadata": {},
   "outputs": [
    {
     "name": "stdout",
     "output_type": "stream",
     "text": [
      "Training - fraud case: 0.17%\n",
      "Testing - fraud case: 0.17%\n",
      "# Fraud in training:  394\n",
      "# Non-fraud in training:  227451\n",
      "# Fraud in test:  98\n",
      "# Non-fraud in test:  56864\n"
     ]
    }
   ],
   "source": [
    "# Split into training and test set\n",
    "x = data.iloc[:,:-1]      # dataframe without class feature\n",
    "y = data.iloc[:,-1]       # selecting only class feature\n",
    "\n",
    "x_train, x_test, y_train, y_test = train_test_split(x, y, test_size=0.2, random_state=42)\n",
    "print (\"Training - fraud case: {:.2f}%\".format(np.sum(y_train==1)/len(y_train)*100))\n",
    "print (\"Testing - fraud case: {:.2f}%\".format(np.sum(y_test==1)/len(y_test)*100))\n",
    "print (\"# Fraud in training: \", np.sum(y_train==1))\n",
    "print (\"# Non-fraud in training: \", np.sum(y_train==0))\n",
    "print (\"# Fraud in test: \", np.sum(y_test==1))\n",
    "print (\"# Non-fraud in test: \", np.sum(y_test==0))\n"
   ]
  },
  {
   "cell_type": "code",
   "execution_count": 4,
   "metadata": {},
   "outputs": [
    {
     "name": "stderr",
     "output_type": "stream",
     "text": [
      "C:\\Users\\hien\\anaconda\\envs\\new_env\\lib\\site-packages\\pandas\\core\\indexing.py:1637: SettingWithCopyWarning: \n",
      "A value is trying to be set on a copy of a slice from a DataFrame\n",
      "\n",
      "See the caveats in the documentation: https://pandas.pydata.org/pandas-docs/stable/user_guide/indexing.html#returning-a-view-versus-a-copy\n",
      "  self._setitem_single_block(indexer, value, name)\n",
      "C:\\Users\\hien\\anaconda\\envs\\new_env\\lib\\site-packages\\pandas\\core\\indexing.py:692: SettingWithCopyWarning: \n",
      "A value is trying to be set on a copy of a slice from a DataFrame\n",
      "\n",
      "See the caveats in the documentation: https://pandas.pydata.org/pandas-docs/stable/user_guide/indexing.html#returning-a-view-versus-a-copy\n",
      "  iloc._setitem_with_indexer(indexer, value, self.name)\n",
      "C:\\Users\\hien\\anaconda\\envs\\new_env\\lib\\site-packages\\pandas\\core\\indexing.py:1637: SettingWithCopyWarning: \n",
      "A value is trying to be set on a copy of a slice from a DataFrame\n",
      "\n",
      "See the caveats in the documentation: https://pandas.pydata.org/pandas-docs/stable/user_guide/indexing.html#returning-a-view-versus-a-copy\n",
      "  self._setitem_single_block(indexer, value, name)\n",
      "C:\\Users\\hien\\anaconda\\envs\\new_env\\lib\\site-packages\\pandas\\core\\indexing.py:692: SettingWithCopyWarning: \n",
      "A value is trying to be set on a copy of a slice from a DataFrame\n",
      "\n",
      "See the caveats in the documentation: https://pandas.pydata.org/pandas-docs/stable/user_guide/indexing.html#returning-a-view-versus-a-copy\n",
      "  iloc._setitem_with_indexer(indexer, value, self.name)\n",
      "C:\\Users\\hien\\anaconda\\envs\\new_env\\lib\\site-packages\\pandas\\core\\indexing.py:1637: SettingWithCopyWarning: \n",
      "A value is trying to be set on a copy of a slice from a DataFrame\n",
      "\n",
      "See the caveats in the documentation: https://pandas.pydata.org/pandas-docs/stable/user_guide/indexing.html#returning-a-view-versus-a-copy\n",
      "  self._setitem_single_block(indexer, value, name)\n",
      "C:\\Users\\hien\\anaconda\\envs\\new_env\\lib\\site-packages\\pandas\\core\\indexing.py:692: SettingWithCopyWarning: \n",
      "A value is trying to be set on a copy of a slice from a DataFrame\n",
      "\n",
      "See the caveats in the documentation: https://pandas.pydata.org/pandas-docs/stable/user_guide/indexing.html#returning-a-view-versus-a-copy\n",
      "  iloc._setitem_with_indexer(indexer, value, self.name)\n",
      "C:\\Users\\hien\\anaconda\\envs\\new_env\\lib\\site-packages\\pandas\\core\\indexing.py:1637: SettingWithCopyWarning: \n",
      "A value is trying to be set on a copy of a slice from a DataFrame\n",
      "\n",
      "See the caveats in the documentation: https://pandas.pydata.org/pandas-docs/stable/user_guide/indexing.html#returning-a-view-versus-a-copy\n",
      "  self._setitem_single_block(indexer, value, name)\n",
      "C:\\Users\\hien\\anaconda\\envs\\new_env\\lib\\site-packages\\pandas\\core\\indexing.py:692: SettingWithCopyWarning: \n",
      "A value is trying to be set on a copy of a slice from a DataFrame\n",
      "\n",
      "See the caveats in the documentation: https://pandas.pydata.org/pandas-docs/stable/user_guide/indexing.html#returning-a-view-versus-a-copy\n",
      "  iloc._setitem_with_indexer(indexer, value, self.name)\n"
     ]
    }
   ],
   "source": [
    "#scaling amount and time to prevent data leakage\n",
    "\n",
    "scale_amount = RobustScaler()\n",
    "scale_time = RobustScaler()\n",
    "\n",
    "\n",
    "scale_amount.fit(x_train.iloc[:,-1:])\n",
    "x_train.iloc[:,-1:] = scale_amount.transform(x_train.iloc[:,-1:])\n",
    "x_test.iloc[:,-1:]= scale_amount.transform(x_test.iloc[:,-1:])\n",
    "\n",
    "\n",
    "scale_time.fit(x_train.iloc[:,0:1])\n",
    "x_train.iloc[:,0:1] = scale_time.transform(x_train.iloc[:,0:1])\n",
    "x_test.iloc[:,0:1] = scale_time.transform(x_test.iloc[:,0:1])\n"
   ]
  },
  {
   "cell_type": "code",
   "execution_count": 5,
   "metadata": {},
   "outputs": [
    {
     "name": "stdout",
     "output_type": "stream",
     "text": [
      "# Fraud in training:  313\n",
      "# Non-fraud in training:  181963\n",
      "# Fraud in validation:  81\n",
      "# Non-fraud in validation:  45488\n"
     ]
    }
   ],
   "source": [
    "# SMOTE is applied to sub-training set to prevent data leakage\n",
    "# Split training set into sub-training set for SMOTE and validation set to prevent data leakage\n",
    "x_subtrain, x_val, y_subtrain, y_val = train_test_split(x_train, y_train, test_size=0.2, random_state = 39)\n",
    "\n",
    "print (\"# Fraud in training: \", np.sum(y_subtrain==1))\n",
    "print (\"# Non-fraud in training: \", np.sum(y_subtrain==0))\n",
    "print (\"# Fraud in validation: \", np.sum(y_val==1))\n",
    "print (\"# Non-fraud in validation: \", np.sum(y_val==0))\n"
   ]
  },
  {
   "cell_type": "code",
   "execution_count": 6,
   "metadata": {},
   "outputs": [
    {
     "name": "stdout",
     "output_type": "stream",
     "text": [
      "Percentage of cases with class 1 for training:0.5000\n",
      "Percentage of cases with class 1 for test:0.0017 \n",
      "\n"
     ]
    }
   ],
   "source": [
    "# Oversampling minority class using SMOTE\n",
    "smote = SMOTE(random_state=42)\n",
    "x_subtrain_smote, y_subtrain_smote = smote.fit_resample(x_subtrain, y_subtrain)\n",
    "print (\"Percentage of cases with class 1 for training:{:.4f}\".format(np.sum(y_subtrain_smote==1)/len(y_subtrain_smote)))\n",
    "print (\"Percentage of cases with class 1 for test:{:.4f}\".format(np.sum(y_test==1)/len(y_test)), \"\\n\")"
   ]
  },
  {
   "cell_type": "code",
   "execution_count": 7,
   "metadata": {},
   "outputs": [
    {
     "name": "stdout",
     "output_type": "stream",
     "text": [
      "# Fraud in training:  181963\n",
      "# Non-fraud in training:  181963\n",
      "# Fraud in validation:  81\n",
      "# Non-fraud in validation:  45488\n",
      "# Fraud in test:  98\n",
      "# Non-fraud in test:  56864\n"
     ]
    }
   ],
   "source": [
    "print (\"# Fraud in training: \", np.sum(y_subtrain_smote==1))\n",
    "print (\"# Non-fraud in training: \", np.sum(y_subtrain_smote==0))\n",
    "print (\"# Fraud in validation: \", np.sum(y_val==1))\n",
    "print (\"# Non-fraud in validation: \", np.sum(y_val==0))\n",
    "print (\"# Fraud in test: \", np.sum(y_test==1))\n",
    "print (\"# Non-fraud in test: \", np.sum(y_test==0))"
   ]
  },
  {
   "cell_type": "markdown",
   "metadata": {},
   "source": [
    "## Model implementation"
   ]
  },
  {
   "cell_type": "code",
   "execution_count": 8,
   "metadata": {},
   "outputs": [],
   "source": [
    "from sklearn.neural_network import MLPClassifier\n",
    "\n"
   ]
  },
  {
   "cell_type": "code",
   "execution_count": 9,
   "metadata": {},
   "outputs": [
    {
     "data": {
      "text/plain": [
       "'MLPC = MLPClassifier(hidden_layer_sizes=(200,), max_iter=10000)\\nMLPC.fit(x_subtrain_smote, y_subtrain_smote)\\ny_pred = MLPC.predict(x_test)\\n\\nrecall_acc = recall_score (y_test,y_pred)\\nrecall_acc '"
      ]
     },
     "execution_count": 9,
     "metadata": {},
     "output_type": "execute_result"
    }
   ],
   "source": [
    "'''MLPC = MLPClassifier(hidden_layer_sizes=(200,), max_iter=10000)\n",
    "MLPC.fit(x_subtrain_smote, y_subtrain_smote)\n",
    "y_pred = MLPC.predict(x_test)\n",
    "\n",
    "recall_acc = recall_score (y_test,y_pred)\n",
    "recall_acc '''"
   ]
  },
  {
   "cell_type": "code",
   "execution_count": 10,
   "metadata": {},
   "outputs": [],
   "source": [
    "#precision_score(y_test,y_pred)"
   ]
  },
  {
   "cell_type": "code",
   "execution_count": 11,
   "metadata": {},
   "outputs": [],
   "source": [
    "from keras.layers import Dropout\n",
    "from keras.layers import BatchNormalization\n",
    "from tensorflow.keras.layers import Conv1D, MaxPool1D"
   ]
  },
  {
   "cell_type": "code",
   "execution_count": 12,
   "metadata": {},
   "outputs": [
    {
     "data": {
      "text/plain": [
       "30"
      ]
     },
     "execution_count": 12,
     "metadata": {},
     "output_type": "execute_result"
    }
   ],
   "source": [
    "x_subtrain_smote.shape[1]"
   ]
  },
  {
   "cell_type": "code",
   "execution_count": 13,
   "metadata": {},
   "outputs": [
    {
     "data": {
      "text/plain": [
       "363926"
      ]
     },
     "execution_count": 13,
     "metadata": {},
     "output_type": "execute_result"
    }
   ],
   "source": [
    "x_subtrain_smote.shape[0]"
   ]
  },
  {
   "cell_type": "code",
   "execution_count": 8,
   "metadata": {},
   "outputs": [],
   "source": [
    "input_size = x_subtrain_smote.shape[1]\n",
    "epochs = 50\n",
    "batch_size = 8192\n",
    "save_best_model = \"desktop\\smote12_credit_card_fraud_model.hdf5\""
   ]
  },
  {
   "cell_type": "code",
   "execution_count": 15,
   "metadata": {},
   "outputs": [
    {
     "name": "stdout",
     "output_type": "stream",
     "text": [
      "Model: \"sequential\"\n",
      "_________________________________________________________________\n",
      "Layer (type)                 Output Shape              Param #   \n",
      "=================================================================\n",
      "dense (Dense)                (None, 8192)              253952    \n",
      "_________________________________________________________________\n",
      "batch_normalization (BatchNo (None, 8192)              32768     \n",
      "_________________________________________________________________\n",
      "dropout (Dropout)            (None, 8192)              0         \n",
      "_________________________________________________________________\n",
      "dense_1 (Dense)              (None, 2048)              16779264  \n",
      "_________________________________________________________________\n",
      "batch_normalization_1 (Batch (None, 2048)              8192      \n",
      "_________________________________________________________________\n",
      "dropout_1 (Dropout)          (None, 2048)              0         \n",
      "_________________________________________________________________\n",
      "dense_2 (Dense)              (None, 1)                 2049      \n",
      "=================================================================\n",
      "Total params: 17,076,225\n",
      "Trainable params: 17,055,745\n",
      "Non-trainable params: 20,480\n",
      "_________________________________________________________________\n"
     ]
    }
   ],
   "source": [
    "#classifier = Sequential()\n",
    "#classifier.add(Dense(8192, activation=\"relu\", input_shape=(input_size,)))\n",
    "#classifier.add(BatchNormalization())\n",
    "#classifier.add(Dropout(0.7))\n",
    "\n",
    "#classifier.add(Dense(2048, activation=\"relu\"))\n",
    "#classifier.add(BatchNormalization())\n",
    "#classifier.add(Dropout(0.5))\n",
    "\n",
    "\n",
    "\n",
    "\n",
    "#classifier.add(Dense(1, activation=\"sigmoid\"))\n",
    "\n",
    "#classifier.summary()\n",
    "\n"
   ]
  },
  {
   "cell_type": "code",
   "execution_count": 16,
   "metadata": {
    "scrolled": true
   },
   "outputs": [
    {
     "name": "stdout",
     "output_type": "stream",
     "text": [
      "Epoch 1/50\n",
      "23/23 [==============================] - 797s 35s/step - loss: 0.5015 - accuracy: 0.9220 - val_loss: 1.2910 - val_accuracy: 0.3663\n",
      "Epoch 2/50\n",
      "23/23 [==============================] - 836s 36s/step - loss: 0.0748 - accuracy: 0.9688 - val_loss: 0.5112 - val_accuracy: 0.7141\n",
      "Epoch 3/50\n",
      "23/23 [==============================] - 840s 37s/step - loss: 0.0448 - accuracy: 0.9840 - val_loss: 0.1689 - val_accuracy: 0.9406\n",
      "Epoch 4/50\n",
      "23/23 [==============================] - 831s 36s/step - loss: 0.0282 - accuracy: 0.9912 - val_loss: 0.0784 - val_accuracy: 0.9762\n",
      "Epoch 5/50\n",
      "23/23 [==============================] - 830s 36s/step - loss: 0.0195 - accuracy: 0.9948 - val_loss: 0.0370 - val_accuracy: 0.9887\n",
      "Epoch 6/50\n",
      "23/23 [==============================] - 840s 37s/step - loss: 0.0143 - accuracy: 0.9968 - val_loss: 0.0228 - val_accuracy: 0.9927\n",
      "Epoch 7/50\n",
      "23/23 [==============================] - 834s 36s/step - loss: 0.0115 - accuracy: 0.9976 - val_loss: 0.0166 - val_accuracy: 0.9945\n",
      "Epoch 8/50\n",
      "23/23 [==============================] - 828s 36s/step - loss: 0.0096 - accuracy: 0.9981 - val_loss: 0.0135 - val_accuracy: 0.9955\n",
      "Epoch 9/50\n",
      "23/23 [==============================] - 826s 36s/step - loss: 0.0085 - accuracy: 0.9984 - val_loss: 0.0114 - val_accuracy: 0.9963\n",
      "Epoch 10/50\n",
      "23/23 [==============================] - 830s 36s/step - loss: 0.0077 - accuracy: 0.9986 - val_loss: 0.0089 - val_accuracy: 0.9973\n",
      "Epoch 11/50\n",
      "23/23 [==============================] - 835s 36s/step - loss: 0.0071 - accuracy: 0.9988 - val_loss: 0.0084 - val_accuracy: 0.9975\n",
      "Epoch 12/50\n",
      "23/23 [==============================] - 830s 36s/step - loss: 0.0065 - accuracy: 0.9989 - val_loss: 0.0072 - val_accuracy: 0.9979\n",
      "Epoch 13/50\n",
      "23/23 [==============================] - 824s 36s/step - loss: 0.0060 - accuracy: 0.9990 - val_loss: 0.0064 - val_accuracy: 0.9982\n",
      "Epoch 14/50\n",
      "23/23 [==============================] - 842s 37s/step - loss: 0.0055 - accuracy: 0.9990 - val_loss: 0.0055 - val_accuracy: 0.9985\n",
      "Epoch 15/50\n",
      "23/23 [==============================] - 840s 37s/step - loss: 0.0052 - accuracy: 0.9991 - val_loss: 0.0050 - val_accuracy: 0.9987\n",
      "Epoch 16/50\n",
      "23/23 [==============================] - 830s 36s/step - loss: 0.0046 - accuracy: 0.9992 - val_loss: 0.0045 - val_accuracy: 0.9988\n",
      "Epoch 17/50\n",
      "23/23 [==============================] - 833s 36s/step - loss: 0.0041 - accuracy: 0.9993 - val_loss: 0.0045 - val_accuracy: 0.9989\n",
      "Epoch 18/50\n",
      "23/23 [==============================] - 833s 36s/step - loss: 0.0038 - accuracy: 0.9993 - val_loss: 0.0043 - val_accuracy: 0.9989\n",
      "Epoch 19/50\n",
      "23/23 [==============================] - 836s 36s/step - loss: 0.0036 - accuracy: 0.9993 - val_loss: 0.0036 - val_accuracy: 0.9992\n",
      "Epoch 20/50\n",
      "23/23 [==============================] - 832s 36s/step - loss: 0.0034 - accuracy: 0.9993 - val_loss: 0.0033 - val_accuracy: 0.9994\n",
      "Epoch 21/50\n",
      "23/23 [==============================] - 827s 36s/step - loss: 0.0032 - accuracy: 0.9994 - val_loss: 0.0032 - val_accuracy: 0.9994\n",
      "Epoch 22/50\n",
      "23/23 [==============================] - 829s 36s/step - loss: 0.0029 - accuracy: 0.9994 - val_loss: 0.0030 - val_accuracy: 0.9995\n",
      "Epoch 23/50\n",
      "23/23 [==============================] - 833s 36s/step - loss: 0.0028 - accuracy: 0.9994 - val_loss: 0.0032 - val_accuracy: 0.9995\n",
      "Epoch 24/50\n",
      "23/23 [==============================] - 837s 36s/step - loss: 0.0024 - accuracy: 0.9995 - val_loss: 0.0033 - val_accuracy: 0.9995\n",
      "Epoch 25/50\n",
      "23/23 [==============================] - 833s 36s/step - loss: 0.0024 - accuracy: 0.9994 - val_loss: 0.0033 - val_accuracy: 0.9995\n",
      "Epoch 26/50\n",
      "23/23 [==============================] - 820s 36s/step - loss: 0.0022 - accuracy: 0.9995 - val_loss: 0.0034 - val_accuracy: 0.9995\n",
      "Epoch 27/50\n",
      "23/23 [==============================] - 826s 36s/step - loss: 0.0021 - accuracy: 0.9995 - val_loss: 0.0037 - val_accuracy: 0.9995\n"
     ]
    },
    {
     "data": {
      "image/png": "[encoded data removed]",
      "text/plain": [
       "<Figure size 432x288 with 1 Axes>"
      ]
     },
     "metadata": {
      "needs_background": "light"
     },
     "output_type": "display_data"
    },
    {
     "data": {
      "image/png": "[encoded data removed]",
      "text/plain": [
       "<Figure size 432x288 with 1 Axes>"
      ]
     },
     "metadata": {
      "needs_background": "light"
     },
     "output_type": "display_data"
    }
   ],
   "source": [
    "#classifier.compile(optimizer=\"adam\", loss=\"binary_crossentropy\", metrics=[\"accuracy\"])\n",
    "#checkpoint = ModelCheckpoint(save_best_model, monitor=\"val_loss\", save_best_only=True, save_weights_only=False)\n",
    "#earlystop = EarlyStopping(monitor=\"val_loss\", patience=5)\n",
    "#callbacks_list = [checkpoint, earlystop]\n",
    "#history = classifier.fit(x_subtrain_smote, y_subtrain_smote, validation_data=(x_val, y_val), epochs=epochs, batch_size=batch_size, callbacks=callbacks_list, shuffle=True)\n",
    "\n",
    "\n",
    "# summarize history for accuracy\n",
    "#plt.plot(history.history['accuracy'])\n",
    "#plt.plot(history.history['val_accuracy'])\n",
    "#plt.title('Model accuracy')\n",
    "#plt.ylabel('accuracy')\n",
    "#plt.xlabel('epoch')\n",
    "#plt.legend(['training', 'validation'], loc='lower right')\n",
    "#plt.show()\n",
    "\n",
    "# summarize history for loss\n",
    "#plt.plot(history.history['loss'])\n",
    "#plt.plot(history.history['val_loss'])\n",
    "#plt.title('Model loss')\n",
    "#plt.ylabel('loss')\n",
    "#plt.xlabel('epoch')\n",
    "#plt.legend(['training', 'validation'], loc='upper right')\n",
    "#plt.show()"
   ]
  },
  {
   "cell_type": "markdown",
   "metadata": {},
   "source": [
    "## Classification results"
   ]
  },
  {
   "cell_type": "code",
   "execution_count": 9,
   "metadata": {},
   "outputs": [],
   "source": [
    "from sklearn.metrics import average_precision_score\n",
    "from sklearn.metrics import roc_auc_score\n",
    "from sklearn.metrics import roc_curve\n",
    "from sklearn.metrics import accuracy_score\n",
    "from sklearn.metrics import auc"
   ]
  },
  {
   "cell_type": "code",
   "execution_count": 10,
   "metadata": {},
   "outputs": [
    {
     "name": "stdout",
     "output_type": "stream",
     "text": [
      "Confusion matrix:\n",
      " [[56847    17]\n",
      " [   16    82]]\n",
      "\n",
      "\n",
      "accuracy: 1.00\n",
      "precision: 0.83\n",
      "recall: 0.84\n",
      "f1 score: 0.83\n",
      "Average precision: 0.69\n",
      "AUC-ROC: 0.92\n",
      "Logistic PR AUC: 0.833\n"
     ]
    }
   ],
   "source": [
    "classifier = load_model(save_best_model)\n",
    "y_pred = classifier.predict(x_test)\n",
    "y_pred = y_pred>=0.5\n",
    "\n",
    "cm = confusion_matrix(y_test, y_pred)\n",
    "print (\"Confusion matrix:\\n\", cm)\n",
    "print (\"\\n\")\n",
    "\n",
    "\n",
    "\n",
    "print (\"accuracy: {:.2f}\".format(accuracy_score(y_test, y_pred)))\n",
    "print (\"precision: {:.2f}\".format(precision_score(y_test, y_pred)))\n",
    "print (\"recall: {:.2f}\".format(recall_score(y_test, y_pred)))\n",
    "print (\"f1 score: {:.2f}\".format(f1_score(y_test, y_pred)))\n",
    "print (\"Average precision: {:.2f}\".format(average_precision_score(y_test, y_pred)))\n",
    "print (\"AUC-ROC: {:.2f}\".format(roc_auc_score(y_test, y_pred)))\n",
    "\n",
    "precision, recall, _ = precision_recall_curve(y_test, y_pred)\n",
    "\n",
    "\n",
    "auc_score = auc(recall, precision)\n",
    "print('Logistic PR AUC: %.3f' % auc_score)"
   ]
  },
  {
   "cell_type": "code",
   "execution_count": 11,
   "metadata": {},
   "outputs": [
    {
     "data": {
      "image/png": "[encoded data removed]",
      "text/plain": [
       "<Figure size 432x288 with 1 Axes>"
      ]
     },
     "metadata": {
      "needs_background": "light"
     },
     "output_type": "display_data"
    }
   ],
   "source": [
    "plt.plot(recall, precision)\n",
    "plt.title(\"Precision-recall Curve\")\n",
    "plt.xlabel(\"Recall\")\n",
    "plt.ylabel(\"Precision\")\n",
    "plt.show()"
   ]
  },
  {
   "cell_type": "code",
   "execution_count": 12,
   "metadata": {},
   "outputs": [
    {
     "data": {
      "image/png": "[encoded data removed]",
      "text/plain": [
       "<Figure size 432x288 with 1 Axes>"
      ]
     },
     "metadata": {
      "needs_background": "light"
     },
     "output_type": "display_data"
    }
   ],
   "source": [
    "fpr, tpr, _ = roc_curve(y_test, y_pred)\n",
    "# plot the roc curve for the model\n",
    "\n",
    "plt.plot(fpr, tpr)\n",
    "# axis labels\n",
    "plt.xlabel('False Positive Rate')\n",
    "plt.ylabel('True Positive Rate')\n",
    "plt.title(\"ROC Curve\")\n",
    "# show the legend\n",
    "#plt.legend()\n",
    "# show the plot\n",
    "plt.show()\n",
    "\n"
   ]
  },
  {
   "cell_type": "code",
   "execution_count": 13,
   "metadata": {},
   "outputs": [
    {
     "data": {
      "text/plain": [
       "array([0.0000000e+00, 2.9895892e-04, 1.0000000e+00])"
      ]
     },
     "execution_count": 13,
     "metadata": {},
     "output_type": "execute_result"
    }
   ],
   "source": [
    "fpr"
   ]
  },
  {
   "cell_type": "code",
   "execution_count": 14,
   "metadata": {},
   "outputs": [
    {
     "data": {
      "text/plain": [
       "array([0.        , 0.83673469, 1.        ])"
      ]
     },
     "execution_count": 14,
     "metadata": {},
     "output_type": "execute_result"
    }
   ],
   "source": [
    "tpr"
   ]
  },
  {
   "cell_type": "markdown",
   "metadata": {},
   "source": [
    "## Feature impact with SHAP"
   ]
  },
  {
   "cell_type": "code",
   "execution_count": 19,
   "metadata": {},
   "outputs": [],
   "source": [
    "import shap\n",
    "from ipywidgets import IntProgress\n",
    "\n"
   ]
  },
  {
   "cell_type": "code",
   "execution_count": 32,
   "metadata": {},
   "outputs": [],
   "source": [
    "#background = x_train[:100]# we use the first 100 training examples as our background dataset to integrate over\n",
    "\n",
    "background = shap.kmeans(x_train, 100)\n",
    "explainer = shap.KernelExplainer(classifier.predict, background)\n",
    "\n"
   ]
  },
  {
   "cell_type": "code",
   "execution_count": 33,
   "metadata": {},
   "outputs": [
    {
     "data": {
      "text/plain": [
       "  0%|          | 0/100 [00:00<?, ?it/s]"
      ]
     },
     "metadata": {},
     "output_type": "display_data"
    }
   ],
   "source": [
    "random_100_x_test = x_test.sample(n=100)\n",
    "\n",
    "shap_values = explainer.shap_values(random_100_x_test, nsamples=100)"
   ]
  },
  {
   "cell_type": "code",
   "execution_count": 36,
   "metadata": {},
   "outputs": [
    {
     "data": {
      "text/plain": [
       "Text(0.5, 1.0, 'Feature Impact (SMOTE-Data)')"
      ]
     },
     "execution_count": 36,
     "metadata": {},
     "output_type": "execute_result"
    },
    {
     "data": {
      "image/png": "[encoded data removed]",
      "text/plain": [
       "<Figure size 576x972 with 1 Axes>"
      ]
     },
     "metadata": {
      "needs_background": "light"
     },
     "output_type": "display_data"
    }
   ],
   "source": [
    "shap.summary_plot(shap_values, x_test, max_display=30, show=False)\n",
    "\n",
    "# Get the current figure and axes objects.\n",
    "fig, ax = plt.gcf(), plt.gca()\n",
    "\n",
    "# Make the modifications that you want. I wanted\n",
    "# to resize the x-axis, but you can do anything that you'd like.\n",
    "xlim = 0.0025\n",
    "ax.set_xlim(0, xlim)\n",
    "ax.set_title(\"Feature Impact (SMOTE-Data)\", fontdict={\"size\":15})"
   ]
  },
  {
   "cell_type": "code",
   "execution_count": 35,
   "metadata": {},
   "outputs": [
    {
     "data": {
      "image/png": "[encoded data removed]",
      "text/plain": [
       "<Figure size 576x972 with 1 Axes>"
      ]
     },
     "metadata": {
      "needs_background": "light"
     },
     "output_type": "display_data"
    }
   ],
   "source": [
    "shap.summary_plot(shap_values, x_test, max_display=30)"
   ]
  },
  {
   "cell_type": "code",
   "execution_count": null,
   "metadata": {},
   "outputs": [],
   "source": []
  }
 ],
 "metadata": {
  "kernelspec": {
   "display_name": "Python 3",
   "language": "python",
   "name": "python3"
  },
  "language_info": {
   "codemirror_mode": {
    "name": "ipython",
    "version": 3
   },
   "file_extension": ".py",
   "mimetype": "text/x-python",
   "name": "python",
   "nbconvert_exporter": "python",
   "pygments_lexer": "ipython3",
   "version": "3.8.8"
  }
 },
 "nbformat": 4,
 "nbformat_minor": 2
}
