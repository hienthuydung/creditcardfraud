{
 "cells": [
  {
   "cell_type": "markdown",
   "metadata": {},
   "source": [
    "# Classification without rebalancing"
   ]
  },
  {
   "cell_type": "code",
   "execution_count": 1,
   "metadata": {},
   "outputs": [],
   "source": [
    "# import modules\n",
    "\n",
    "import h5py\n",
    "import warnings\n",
    "import numpy as np\n",
    "import pandas as pd\n",
    "import seaborn as sns\n",
    "import tensorflow as tf\n",
    "import matplotlib.pyplot as plt\n",
    "from imblearn.over_sampling import SMOTE\n",
    "from sklearn.preprocessing import RobustScaler\n",
    "from sklearn.model_selection import train_test_split, GridSearchCV, cross_val_score\n",
    "from sklearn.metrics import confusion_matrix, f1_score, precision_score, recall_score, precision_recall_curve\n",
    "from sklearn.metrics import precision_recall_fscore_support, classification_report, make_scorer\n",
    "from keras.wrappers.scikit_learn import KerasClassifier\n",
    "from keras.models import Sequential, load_model\n",
    "from keras.layers import Dense, LeakyReLU\n",
    "from keras.callbacks import EarlyStopping, ModelCheckpoint"
   ]
  },
  {
   "cell_type": "code",
   "execution_count": 2,
   "metadata": {},
   "outputs": [],
   "source": [
    "# read in data\n",
    "\n",
    "data = pd.read_csv(r\"C:\\Users\\hien\\Desktop\\masterdata\\creditcard.csv\")"
   ]
  },
  {
   "cell_type": "markdown",
   "metadata": {},
   "source": [
    "## Data preprocessing"
   ]
  },
  {
   "cell_type": "code",
   "execution_count": 3,
   "metadata": {},
   "outputs": [
    {
     "name": "stdout",
     "output_type": "stream",
     "text": [
      "Percent of fraud in training: 0.17%\n",
      "Percent of fraud in test: 0.17%\n"
     ]
    }
   ],
   "source": [
    "# Split into training and test set\n",
    "\n",
    "x = data.iloc[:,:-1]      # dataframe without class feature\n",
    "y = data.iloc[:,-1]       # selecting only class feature\n",
    "\n",
    "x_train, x_test, y_train, y_test = train_test_split(x, y, test_size=0.2, random_state = 42)\n",
    "\n",
    "print (\"Percent of fraud in training: {:.2f}%\".format(np.sum(y_train==1)/len(y_train)*100))\n",
    "print (\"Percent of fraud in test: {:.2f}%\".format(np.sum(y_test==1)/len(y_test)*100))\n"
   ]
  },
  {
   "cell_type": "code",
   "execution_count": 4,
   "metadata": {},
   "outputs": [
    {
     "name": "stderr",
     "output_type": "stream",
     "text": [
      "C:\\Users\\hien\\anaconda\\envs\\new_env\\lib\\site-packages\\pandas\\core\\indexing.py:1637: SettingWithCopyWarning: \n",
      "A value is trying to be set on a copy of a slice from a DataFrame\n",
      "\n",
      "See the caveats in the documentation: https://pandas.pydata.org/pandas-docs/stable/user_guide/indexing.html#returning-a-view-versus-a-copy\n",
      "  self._setitem_single_block(indexer, value, name)\n",
      "C:\\Users\\hien\\anaconda\\envs\\new_env\\lib\\site-packages\\pandas\\core\\indexing.py:692: SettingWithCopyWarning: \n",
      "A value is trying to be set on a copy of a slice from a DataFrame\n",
      "\n",
      "See the caveats in the documentation: https://pandas.pydata.org/pandas-docs/stable/user_guide/indexing.html#returning-a-view-versus-a-copy\n",
      "  iloc._setitem_with_indexer(indexer, value, self.name)\n",
      "C:\\Users\\hien\\anaconda\\envs\\new_env\\lib\\site-packages\\pandas\\core\\indexing.py:1637: SettingWithCopyWarning: \n",
      "A value is trying to be set on a copy of a slice from a DataFrame\n",
      "\n",
      "See the caveats in the documentation: https://pandas.pydata.org/pandas-docs/stable/user_guide/indexing.html#returning-a-view-versus-a-copy\n",
      "  self._setitem_single_block(indexer, value, name)\n",
      "C:\\Users\\hien\\anaconda\\envs\\new_env\\lib\\site-packages\\pandas\\core\\indexing.py:692: SettingWithCopyWarning: \n",
      "A value is trying to be set on a copy of a slice from a DataFrame\n",
      "\n",
      "See the caveats in the documentation: https://pandas.pydata.org/pandas-docs/stable/user_guide/indexing.html#returning-a-view-versus-a-copy\n",
      "  iloc._setitem_with_indexer(indexer, value, self.name)\n",
      "C:\\Users\\hien\\anaconda\\envs\\new_env\\lib\\site-packages\\pandas\\core\\indexing.py:1637: SettingWithCopyWarning: \n",
      "A value is trying to be set on a copy of a slice from a DataFrame\n",
      "\n",
      "See the caveats in the documentation: https://pandas.pydata.org/pandas-docs/stable/user_guide/indexing.html#returning-a-view-versus-a-copy\n",
      "  self._setitem_single_block(indexer, value, name)\n",
      "C:\\Users\\hien\\anaconda\\envs\\new_env\\lib\\site-packages\\pandas\\core\\indexing.py:692: SettingWithCopyWarning: \n",
      "A value is trying to be set on a copy of a slice from a DataFrame\n",
      "\n",
      "See the caveats in the documentation: https://pandas.pydata.org/pandas-docs/stable/user_guide/indexing.html#returning-a-view-versus-a-copy\n",
      "  iloc._setitem_with_indexer(indexer, value, self.name)\n",
      "C:\\Users\\hien\\anaconda\\envs\\new_env\\lib\\site-packages\\pandas\\core\\indexing.py:1637: SettingWithCopyWarning: \n",
      "A value is trying to be set on a copy of a slice from a DataFrame\n",
      "\n",
      "See the caveats in the documentation: https://pandas.pydata.org/pandas-docs/stable/user_guide/indexing.html#returning-a-view-versus-a-copy\n",
      "  self._setitem_single_block(indexer, value, name)\n",
      "C:\\Users\\hien\\anaconda\\envs\\new_env\\lib\\site-packages\\pandas\\core\\indexing.py:692: SettingWithCopyWarning: \n",
      "A value is trying to be set on a copy of a slice from a DataFrame\n",
      "\n",
      "See the caveats in the documentation: https://pandas.pydata.org/pandas-docs/stable/user_guide/indexing.html#returning-a-view-versus-a-copy\n",
      "  iloc._setitem_with_indexer(indexer, value, self.name)\n"
     ]
    }
   ],
   "source": [
    "#scaling amount and time to prevent data leakage\n",
    "\n",
    "scale_amount = RobustScaler()\n",
    "scale_time = RobustScaler()\n",
    "\n",
    "\n",
    "scale_amount.fit(x_train.iloc[:,-1:])\n",
    "x_train.iloc[:,-1:] = scale_amount.transform(x_train.iloc[:,-1:])\n",
    "x_test.iloc[:,-1:]= scale_amount.transform(x_test.iloc[:,-1:])\n",
    "\n",
    "\n",
    "scale_time.fit(x_train.iloc[:,0:1])\n",
    "x_train.iloc[:,0:1] = scale_time.transform(x_train.iloc[:,0:1])\n",
    "x_test.iloc[:,0:1] = scale_time.transform(x_test.iloc[:,0:1])\n",
    "\n"
   ]
  },
  {
   "cell_type": "code",
   "execution_count": 5,
   "metadata": {},
   "outputs": [
    {
     "data": {
      "text/plain": [
       "(227845, 30)"
      ]
     },
     "execution_count": 5,
     "metadata": {},
     "output_type": "execute_result"
    }
   ],
   "source": [
    "# shape of input data\n",
    "\n",
    "x_train.shape"
   ]
  },
  {
   "cell_type": "code",
   "execution_count": 6,
   "metadata": {},
   "outputs": [
    {
     "name": "stdout",
     "output_type": "stream",
     "text": [
      "# Fraud in training:  394\n",
      "# Non-fraud in training:  227451\n",
      "# Fraud in testing:  98\n",
      "# Non-fraud in testing:  56864\n"
     ]
    }
   ],
   "source": [
    "# amount of input data\n",
    "\n",
    "print(\"# Fraud in training: \", np.sum(y_train==1))\n",
    "print(\"# Non-fraud in training: \", np.sum(y_train==0))\n",
    "print(\"# Fraud in testing: \", np.sum(y_test==1))\n",
    "print(\"# Non-fraud in testing: \", np.sum(y_test==0))"
   ]
  },
  {
   "cell_type": "markdown",
   "metadata": {},
   "source": [
    "## Model implementation"
   ]
  },
  {
   "cell_type": "code",
   "execution_count": 7,
   "metadata": {},
   "outputs": [],
   "source": [
    "# Training, validation and test set have the same imbalanced distribution\n",
    "\n",
    "input_size = x_train.shape[1]\n",
    "epochs = 50\n",
    "batch_size = 2048\n",
    "save_best_model = \"desktop\\credit_card_fraud_norebalancing1.hdf5\"\n"
   ]
  },
  {
   "cell_type": "code",
   "execution_count": 8,
   "metadata": {},
   "outputs": [],
   "source": [
    "from keras.layers import Dropout\n",
    "from keras.layers import BatchNormalization"
   ]
  },
  {
   "cell_type": "code",
   "execution_count": 20,
   "metadata": {},
   "outputs": [
    {
     "name": "stdout",
     "output_type": "stream",
     "text": [
      "Model: \"sequential_2\"\n",
      "_________________________________________________________________\n",
      "Layer (type)                 Output Shape              Param #   \n",
      "=================================================================\n",
      "dense_6 (Dense)              (None, 8192)              253952    \n",
      "_________________________________________________________________\n",
      "batch_normalization_4 (Batch (None, 8192)              32768     \n",
      "_________________________________________________________________\n",
      "dropout_4 (Dropout)          (None, 8192)              0         \n",
      "_________________________________________________________________\n",
      "dense_7 (Dense)              (None, 1024)              8389632   \n",
      "_________________________________________________________________\n",
      "batch_normalization_5 (Batch (None, 1024)              4096      \n",
      "_________________________________________________________________\n",
      "dropout_5 (Dropout)          (None, 1024)              0         \n",
      "_________________________________________________________________\n",
      "dense_8 (Dense)              (None, 1)                 1025      \n",
      "=================================================================\n",
      "Total params: 8,681,473\n",
      "Trainable params: 8,663,041\n",
      "Non-trainable params: 18,432\n",
      "_________________________________________________________________\n"
     ]
    }
   ],
   "source": [
    "#classifier = Sequential()\n",
    "#classifier.add(Dense(8192, activation=\"relu\", input_shape=(input_size,)))\n",
    "\n",
    "#classifier.add(BatchNormalization())\n",
    "#classifier.add(Dropout(0.7))\n",
    "\n",
    "#classifier.add(Dense(1024, activation=\"relu\", input_shape=(input_size,)))\n",
    "#classifier.add(BatchNormalization())\n",
    "#classifier.add(Dropout(0.7))\n",
    "\n",
    "\n",
    "\n",
    "#classifier.add(Dense(1, activation=\"sigmoid\"))\n",
    "\n",
    "#classifier.summary()\n"
   ]
  },
  {
   "cell_type": "code",
   "execution_count": 21,
   "metadata": {},
   "outputs": [
    {
     "name": "stdout",
     "output_type": "stream",
     "text": [
      "Epoch 1/50\n",
      "90/90 [==============================] - 309s 3s/step - loss: 0.4461 - accuracy: 0.8786 - val_loss: 0.0914 - val_accuracy: 0.9994\n",
      "Epoch 2/50\n",
      "90/90 [==============================] - 295s 3s/step - loss: 0.0659 - accuracy: 0.9965 - val_loss: 0.0205 - val_accuracy: 0.9993\n",
      "Epoch 3/50\n",
      "90/90 [==============================] - 293s 3s/step - loss: 0.0288 - accuracy: 0.9983 - val_loss: 0.0122 - val_accuracy: 0.9994\n",
      "Epoch 4/50\n",
      "90/90 [==============================] - 296s 3s/step - loss: 0.0186 - accuracy: 0.9989 - val_loss: 0.0078 - val_accuracy: 0.9994\n",
      "Epoch 5/50\n",
      "90/90 [==============================] - 293s 3s/step - loss: 0.0166 - accuracy: 0.9988 - val_loss: 0.0069 - val_accuracy: 0.9994\n",
      "Epoch 6/50\n",
      "90/90 [==============================] - 289s 3s/step - loss: 0.0142 - accuracy: 0.9990 - val_loss: 0.0076 - val_accuracy: 0.9994\n",
      "Epoch 7/50\n",
      "90/90 [==============================] - 290s 3s/step - loss: 0.0133 - accuracy: 0.9990 - val_loss: 0.0095 - val_accuracy: 0.9994\n",
      "Epoch 8/50\n",
      "90/90 [==============================] - 290s 3s/step - loss: 0.0103 - accuracy: 0.9991 - val_loss: 0.0084 - val_accuracy: 0.9994\n",
      "Epoch 9/50\n",
      "90/90 [==============================] - 291s 3s/step - loss: 0.0133 - accuracy: 0.9990 - val_loss: 0.0068 - val_accuracy: 0.9994\n",
      "Epoch 10/50\n",
      "90/90 [==============================] - 294s 3s/step - loss: 0.0094 - accuracy: 0.9992 - val_loss: 0.0047 - val_accuracy: 0.9995\n",
      "Epoch 11/50\n",
      "90/90 [==============================] - 290s 3s/step - loss: 0.0080 - accuracy: 0.9992 - val_loss: 0.0079 - val_accuracy: 0.9994\n",
      "Epoch 12/50\n",
      "90/90 [==============================] - 301s 3s/step - loss: 0.0079 - accuracy: 0.9992 - val_loss: 0.0045 - val_accuracy: 0.9995\n",
      "Epoch 13/50\n",
      "90/90 [==============================] - 293s 3s/step - loss: 0.0074 - accuracy: 0.9992 - val_loss: 0.0053 - val_accuracy: 0.9995\n",
      "Epoch 14/50\n",
      "90/90 [==============================] - 292s 3s/step - loss: 0.0078 - accuracy: 0.9992 - val_loss: 0.0050 - val_accuracy: 0.9994\n",
      "Epoch 15/50\n",
      "90/90 [==============================] - 291s 3s/step - loss: 0.0070 - accuracy: 0.9992 - val_loss: 0.0061 - val_accuracy: 0.9994\n",
      "Epoch 16/50\n",
      "90/90 [==============================] - 294s 3s/step - loss: 0.0055 - accuracy: 0.9993 - val_loss: 0.0044 - val_accuracy: 0.9994\n",
      "Epoch 17/50\n",
      "90/90 [==============================] - 292s 3s/step - loss: 0.0063 - accuracy: 0.9992 - val_loss: 0.0053 - val_accuracy: 0.9994\n",
      "Epoch 18/50\n",
      "90/90 [==============================] - 295s 3s/step - loss: 0.0067 - accuracy: 0.9992 - val_loss: 0.0038 - val_accuracy: 0.9994\n",
      "Epoch 19/50\n",
      "90/90 [==============================] - 295s 3s/step - loss: 0.0059 - accuracy: 0.9993 - val_loss: 0.0032 - val_accuracy: 0.9994\n",
      "Epoch 20/50\n",
      "90/90 [==============================] - 294s 3s/step - loss: 0.0056 - accuracy: 0.9993 - val_loss: 0.0035 - val_accuracy: 0.9995\n",
      "Epoch 21/50\n",
      "90/90 [==============================] - 294s 3s/step - loss: 0.0050 - accuracy: 0.9993 - val_loss: 0.0039 - val_accuracy: 0.9994\n",
      "Epoch 22/50\n",
      "90/90 [==============================] - 293s 3s/step - loss: 0.0049 - accuracy: 0.9993 - val_loss: 0.0041 - val_accuracy: 0.9994\n",
      "Epoch 23/50\n",
      "90/90 [==============================] - 299s 3s/step - loss: 0.0052 - accuracy: 0.9993 - val_loss: 0.0029 - val_accuracy: 0.9994\n",
      "Epoch 24/50\n",
      "90/90 [==============================] - 301s 3s/step - loss: 0.0049 - accuracy: 0.9993 - val_loss: 0.0028 - val_accuracy: 0.9994\n",
      "Epoch 25/50\n",
      "90/90 [==============================] - 293s 3s/step - loss: 0.0048 - accuracy: 0.9994 - val_loss: 0.0031 - val_accuracy: 0.9995\n",
      "Epoch 26/50\n",
      "90/90 [==============================] - 300s 3s/step - loss: 0.0049 - accuracy: 0.9993 - val_loss: 0.0043 - val_accuracy: 0.9994\n",
      "Epoch 27/50\n",
      "90/90 [==============================] - 293s 3s/step - loss: 0.0043 - accuracy: 0.9993 - val_loss: 0.0031 - val_accuracy: 0.9995\n",
      "Epoch 28/50\n",
      "90/90 [==============================] - 293s 3s/step - loss: 0.0038 - accuracy: 0.9994 - val_loss: 0.0031 - val_accuracy: 0.9995\n",
      "Epoch 29/50\n",
      "90/90 [==============================] - 291s 3s/step - loss: 0.0041 - accuracy: 0.9993 - val_loss: 0.0028 - val_accuracy: 0.9995\n"
     ]
    },
    {
     "data": {
      "image/png": "[encoded data removed]",
      "text/plain": [
       "<Figure size 432x288 with 1 Axes>"
      ]
     },
     "metadata": {
      "needs_background": "light"
     },
     "output_type": "display_data"
    },
    {
     "data": {
      "image/png": "[encoded data removed]",
      "text/plain": [
       "<Figure size 432x288 with 1 Axes>"
      ]
     },
     "metadata": {
      "needs_background": "light"
     },
     "output_type": "display_data"
    }
   ],
   "source": [
    "\n",
    "#classifier.compile(optimizer=\"adam\", loss=\"binary_crossentropy\", metrics=[\"accuracy\"])\n",
    "#checkpoint = ModelCheckpoint(save_best_model, monitor=\"val_loss\", save_best_only=True, save_weights_only=False)\n",
    "#earlystop = EarlyStopping(monitor=\"val_loss\", patience=5)\n",
    "#callbacks_list = [checkpoint, earlystop]\n",
    "#history = classifier.fit(x_train, y_train, validation_split=0.2, epochs=epochs, batch_size=batch_size, callbacks=callbacks_list, shuffle=True)\n",
    "\n",
    "\n",
    "\n",
    "# summarize history for accuracy\n",
    "#plt.plot(history.history['accuracy'])\n",
    "#plt.plot(history.history['val_accuracy'])\n",
    "#plt.title('Model accuracy')\n",
    "#plt.ylabel('Accuracy')\n",
    "#plt.xlabel('Epoch')\n",
    "#plt.legend(['Training', 'Validation'], loc='lower right')\n",
    "#plt.show()\n",
    "\n",
    "# summarize history for loss\n",
    "#plt.plot(history.history['loss'])\n",
    "#plt.plot(history.history['val_loss'])\n",
    "#plt.title('Model loss')\n",
    "#plt.ylabel('Loss')\n",
    "#plt.xlabel('Epoch')\n",
    "#plt.legend(['Training', 'Validation'], loc='upper right')\n",
    "#plt.show()"
   ]
  },
  {
   "cell_type": "markdown",
   "metadata": {},
   "source": [
    "## Classification results"
   ]
  },
  {
   "cell_type": "code",
   "execution_count": 9,
   "metadata": {},
   "outputs": [],
   "source": [
    "from sklearn.metrics import average_precision_score\n",
    "from sklearn.metrics import roc_auc_score\n",
    "from sklearn.metrics import roc_curve\n",
    "from sklearn.metrics import accuracy_score\n",
    "from sklearn.metrics import auc"
   ]
  },
  {
   "cell_type": "code",
   "execution_count": 10,
   "metadata": {},
   "outputs": [
    {
     "name": "stdout",
     "output_type": "stream",
     "text": [
      "Confusion matrix:\n",
      " [[56861     3]\n",
      " [   30    68]]\n",
      "\n",
      "\n",
      "accuracy: 1.00\n",
      "precision: 0.96\n",
      "recall: 0.69\n",
      "f1 score: 0.80\n",
      "Average precision: 0.67\n",
      "AUC-ROC: 0.85\n",
      "Logistic PR AUC: 0.826\n"
     ]
    }
   ],
   "source": [
    "classifier = load_model(save_best_model)\n",
    "y_pred = classifier.predict(x_test)\n",
    "y_pred = y_pred>=0.5\n",
    "\n",
    "cm = confusion_matrix(y_test, y_pred)\n",
    "print (\"Confusion matrix:\\n\", cm)\n",
    "print (\"\\n\")\n",
    "\n",
    "precision, recall, _ = precision_recall_curve(y_test, y_pred)\n",
    "\n",
    "print (\"accuracy: {:.2f}\".format(accuracy_score(y_test, y_pred)))\n",
    "print (\"precision: {:.2f}\".format(precision_score(y_test, y_pred)))\n",
    "print (\"recall: {:.2f}\".format(recall_score(y_test, y_pred)))\n",
    "print (\"f1 score: {:.2f}\".format(f1_score(y_test, y_pred)))\n",
    "print (\"Average precision: {:.2f}\".format(average_precision_score(y_test, y_pred)))\n",
    "print (\"AUC-ROC: {:.2f}\".format(roc_auc_score(y_test, y_pred)))\n",
    "\n",
    "auc_score = auc(recall, precision)\n",
    "print('Logistic PR AUC: %.3f' % auc_score)"
   ]
  },
  {
   "cell_type": "code",
   "execution_count": 11,
   "metadata": {},
   "outputs": [
    {
     "data": {
      "image/png": "[encoded data removed]",
      "text/plain": [
       "<Figure size 432x288 with 1 Axes>"
      ]
     },
     "metadata": {
      "needs_background": "light"
     },
     "output_type": "display_data"
    }
   ],
   "source": [
    "fpr, tpr, _ = roc_curve(y_test, y_pred)\n",
    "# plot the roc curve for the model\n",
    "\n",
    "plt.plot(fpr, tpr)\n",
    "# axis labels\n",
    "plt.xlabel('False Positive Rate')\n",
    "plt.ylabel('True Positive Rate')\n",
    "plt.title(\"ROC Curve\")\n",
    "# show the legend\n",
    "#plt.legend()\n",
    "# show the plot\n",
    "plt.show()"
   ]
  },
  {
   "cell_type": "code",
   "execution_count": 12,
   "metadata": {},
   "outputs": [
    {
     "data": {
      "image/png": "[encoded data removed]",
      "text/plain": [
       "<Figure size 432x288 with 1 Axes>"
      ]
     },
     "metadata": {
      "needs_background": "light"
     },
     "output_type": "display_data"
    }
   ],
   "source": [
    "\n",
    "plt.plot(recall, precision)\n",
    "plt.title(\"Precision-recall Curve\")\n",
    "plt.xlabel(\"Recall\")\n",
    "plt.ylabel(\"Precision\")\n",
    "plt.show()"
   ]
  },
  {
   "cell_type": "markdown",
   "metadata": {},
   "source": [
    "## Feature impact with SHAP"
   ]
  },
  {
   "cell_type": "code",
   "execution_count": 13,
   "metadata": {},
   "outputs": [],
   "source": [
    "#pip install shap\n",
    "#pip install ipywidgets\n",
    "#!python -m pip install jupyter_contrib_nbextensions\n",
    "\n",
    "import shap\n",
    "from ipywidgets import IntProgress\n",
    "\n",
    "#explainer = shap.KernelExplainer(classifier.predict,x_train)\n",
    "#shap_values = explainer.shap_values(x_test, nsamples=5)\n",
    "#features = data.columns\n",
    "#shap.summary_plot(shap_values,x_test,feature_names=features)"
   ]
  },
  {
   "cell_type": "code",
   "execution_count": 14,
   "metadata": {},
   "outputs": [],
   "source": [
    "\n",
    "background = shap.kmeans(x_train, 100)\n",
    "explainer = shap.KernelExplainer(classifier.predict, background)"
   ]
  },
  {
   "cell_type": "code",
   "execution_count": 15,
   "metadata": {},
   "outputs": [],
   "source": [
    "random_100_x_test = x_test.sample(n=100)"
   ]
  },
  {
   "cell_type": "code",
   "execution_count": 16,
   "metadata": {},
   "outputs": [
    {
     "data": {
      "text/plain": [
       "  0%|          | 0/100 [00:00<?, ?it/s]"
      ]
     },
     "metadata": {},
     "output_type": "display_data"
    }
   ],
   "source": [
    "shap_values = explainer.shap_values(random_100_x_test, nsamples=100)"
   ]
  },
  {
   "cell_type": "code",
   "execution_count": 19,
   "metadata": {},
   "outputs": [
    {
     "data": {
      "text/plain": [
       "Text(0.5, 1.0, 'Feature Impact (Imbalanced Data)')"
      ]
     },
     "execution_count": 19,
     "metadata": {},
     "output_type": "execute_result"
    },
    {
     "data": {
      "image/png": "[encoded data removed]",
      "text/plain": [
       "<Figure size 576x972 with 1 Axes>"
      ]
     },
     "metadata": {
      "needs_background": "light"
     },
     "output_type": "display_data"
    }
   ],
   "source": [
    "shap.summary_plot(shap_values, x_test, max_display=30, show=False)\n",
    "\n",
    "# Get the current figure and axes objects.\n",
    "fig, ax = plt.gcf(), plt.gca()\n",
    "\n",
    "# Make the modifications that you want. I wanted\n",
    "# to resize the x-axis, but you can do anything that you'd like.\n",
    "xlim = 0.0016\n",
    "ax.set_xlim(0, xlim)\n",
    "ax.set_title(\"Feature Impact (Imbalanced Data)\", fontdict={\"size\":15})"
   ]
  },
  {
   "cell_type": "code",
   "execution_count": 18,
   "metadata": {},
   "outputs": [
    {
     "data": {
      "image/png": "[encoded data removed]",
      "text/plain": [
       "<Figure size 576x972 with 1 Axes>"
      ]
     },
     "metadata": {
      "needs_background": "light"
     },
     "output_type": "display_data"
    }
   ],
   "source": [
    "shap.summary_plot(shap_values, x_test, max_display=30)"
   ]
  },
  {
   "cell_type": "code",
   "execution_count": null,
   "metadata": {},
   "outputs": [],
   "source": []
  }
 ],
 "metadata": {
  "kernelspec": {
   "display_name": "Python 3",
   "language": "python",
   "name": "python3"
  },
  "language_info": {
   "codemirror_mode": {
    "name": "ipython",
    "version": 3
   },
   "file_extension": ".py",
   "mimetype": "text/x-python",
   "name": "python",
   "nbconvert_exporter": "python",
   "pygments_lexer": "ipython3",
   "version": "3.8.8"
  }
 },
 "nbformat": 4,
 "nbformat_minor": 2
}
