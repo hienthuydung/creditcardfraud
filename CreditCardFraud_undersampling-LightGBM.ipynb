{
 "cells": [
  {
   "cell_type": "markdown",
   "metadata": {},
   "source": [
    "# Classification with undersampled data "
   ]
  },
  {
   "cell_type": "code",
   "execution_count": 1,
   "metadata": {},
   "outputs": [],
   "source": [
    "\n",
    "import h5py\n",
    "import warnings\n",
    "\n",
    "import numpy as np\n",
    "import pandas as pd\n",
    "import seaborn as sns\n",
    "import tensorflow as tf\n",
    "import keras.backend as K\n",
    "import matplotlib.pyplot as plt\n",
    "from imblearn.over_sampling import SMOTE\n",
    "from imblearn.under_sampling import RandomUnderSampler\n",
    "from imblearn.pipeline import make_pipeline\n",
    "import sklearn\n",
    "from sklearn.utils import class_weight\n",
    "from sklearn.decomposition import PCA\n",
    "from sklearn.linear_model import LogisticRegression\n",
    "from sklearn.preprocessing import RobustScaler\n",
    "from sklearn.ensemble import RandomForestClassifier, GradientBoostingClassifier\n",
    "from sklearn.model_selection import train_test_split, GridSearchCV, cross_val_score\n",
    "from sklearn.metrics import confusion_matrix, f1_score, precision_score, recall_score, precision_recall_curve\n",
    "from sklearn.metrics import precision_recall_fscore_support, classification_report, make_scorer\n",
    "from keras.wrappers.scikit_learn import KerasClassifier\n",
    "from keras.models import Sequential, load_model\n",
    "from keras.layers import Dense, LeakyReLU\n",
    "from keras.callbacks import EarlyStopping, ModelCheckpoint"
   ]
  },
  {
   "cell_type": "code",
   "execution_count": 2,
   "metadata": {},
   "outputs": [],
   "source": [
    "# read in data\n",
    "\n",
    "data = pd.read_csv(r\"C:\\Users\\hien\\Desktop\\masterdata\\creditcard.csv\")"
   ]
  },
  {
   "cell_type": "markdown",
   "metadata": {},
   "source": [
    "## Data preprocessing"
   ]
  },
  {
   "cell_type": "code",
   "execution_count": 3,
   "metadata": {},
   "outputs": [
    {
     "name": "stdout",
     "output_type": "stream",
     "text": [
      "Training - fraud case: 0.17%\n",
      "Testing - fraud case: 0.17%\n"
     ]
    }
   ],
   "source": [
    "# Split into training and validation set\n",
    "x = data.iloc[:,:-1]      # dataframe without class feature\n",
    "y = data.iloc[:,-1]       # selecting only class feature\n",
    "\n",
    "x_train, x_test, y_train, y_test = train_test_split(x, y, test_size=0.2, random_state=42)\n",
    "print (\"Training - fraud case: {:.2f}%\".format(np.sum(y_train==1)/len(y_train)*100))\n",
    "print (\"Testing - fraud case: {:.2f}%\".format(np.sum(y_test==1)/len(y_test)*100))\n"
   ]
  },
  {
   "cell_type": "code",
   "execution_count": 4,
   "metadata": {},
   "outputs": [
    {
     "name": "stdout",
     "output_type": "stream",
     "text": [
      "# Fraud in training:  394\n",
      "# Non-fraud in training:  227451\n",
      "# Fraud in testing:  98\n",
      "# Non-fraud in testing:  56864\n"
     ]
    }
   ],
   "source": [
    "print(\"# Fraud in training: \", np.sum(y_train==1))\n",
    "print(\"# Non-fraud in training: \", np.sum(y_train==0))\n",
    "print(\"# Fraud in testing: \", np.sum(y_test==1))\n",
    "print(\"# Non-fraud in testing: \", np.sum(y_test==0))"
   ]
  },
  {
   "cell_type": "code",
   "execution_count": 5,
   "metadata": {},
   "outputs": [
    {
     "name": "stderr",
     "output_type": "stream",
     "text": [
      "C:\\Users\\hien\\anaconda\\envs\\new_env\\lib\\site-packages\\pandas\\core\\indexing.py:1637: SettingWithCopyWarning: \n",
      "A value is trying to be set on a copy of a slice from a DataFrame\n",
      "\n",
      "See the caveats in the documentation: https://pandas.pydata.org/pandas-docs/stable/user_guide/indexing.html#returning-a-view-versus-a-copy\n",
      "  self._setitem_single_block(indexer, value, name)\n",
      "C:\\Users\\hien\\anaconda\\envs\\new_env\\lib\\site-packages\\pandas\\core\\indexing.py:692: SettingWithCopyWarning: \n",
      "A value is trying to be set on a copy of a slice from a DataFrame\n",
      "\n",
      "See the caveats in the documentation: https://pandas.pydata.org/pandas-docs/stable/user_guide/indexing.html#returning-a-view-versus-a-copy\n",
      "  iloc._setitem_with_indexer(indexer, value, self.name)\n",
      "C:\\Users\\hien\\anaconda\\envs\\new_env\\lib\\site-packages\\pandas\\core\\indexing.py:1637: SettingWithCopyWarning: \n",
      "A value is trying to be set on a copy of a slice from a DataFrame\n",
      "\n",
      "See the caveats in the documentation: https://pandas.pydata.org/pandas-docs/stable/user_guide/indexing.html#returning-a-view-versus-a-copy\n",
      "  self._setitem_single_block(indexer, value, name)\n",
      "C:\\Users\\hien\\anaconda\\envs\\new_env\\lib\\site-packages\\pandas\\core\\indexing.py:692: SettingWithCopyWarning: \n",
      "A value is trying to be set on a copy of a slice from a DataFrame\n",
      "\n",
      "See the caveats in the documentation: https://pandas.pydata.org/pandas-docs/stable/user_guide/indexing.html#returning-a-view-versus-a-copy\n",
      "  iloc._setitem_with_indexer(indexer, value, self.name)\n",
      "C:\\Users\\hien\\anaconda\\envs\\new_env\\lib\\site-packages\\pandas\\core\\indexing.py:1637: SettingWithCopyWarning: \n",
      "A value is trying to be set on a copy of a slice from a DataFrame\n",
      "\n",
      "See the caveats in the documentation: https://pandas.pydata.org/pandas-docs/stable/user_guide/indexing.html#returning-a-view-versus-a-copy\n",
      "  self._setitem_single_block(indexer, value, name)\n",
      "C:\\Users\\hien\\anaconda\\envs\\new_env\\lib\\site-packages\\pandas\\core\\indexing.py:692: SettingWithCopyWarning: \n",
      "A value is trying to be set on a copy of a slice from a DataFrame\n",
      "\n",
      "See the caveats in the documentation: https://pandas.pydata.org/pandas-docs/stable/user_guide/indexing.html#returning-a-view-versus-a-copy\n",
      "  iloc._setitem_with_indexer(indexer, value, self.name)\n",
      "C:\\Users\\hien\\anaconda\\envs\\new_env\\lib\\site-packages\\pandas\\core\\indexing.py:1637: SettingWithCopyWarning: \n",
      "A value is trying to be set on a copy of a slice from a DataFrame\n",
      "\n",
      "See the caveats in the documentation: https://pandas.pydata.org/pandas-docs/stable/user_guide/indexing.html#returning-a-view-versus-a-copy\n",
      "  self._setitem_single_block(indexer, value, name)\n",
      "C:\\Users\\hien\\anaconda\\envs\\new_env\\lib\\site-packages\\pandas\\core\\indexing.py:692: SettingWithCopyWarning: \n",
      "A value is trying to be set on a copy of a slice from a DataFrame\n",
      "\n",
      "See the caveats in the documentation: https://pandas.pydata.org/pandas-docs/stable/user_guide/indexing.html#returning-a-view-versus-a-copy\n",
      "  iloc._setitem_with_indexer(indexer, value, self.name)\n"
     ]
    }
   ],
   "source": [
    "#scaling time and amount to prevent data leakage\n",
    "\n",
    "sc_time = RobustScaler()\n",
    "sc_time.fit(x_train.iloc[:,0:1])\n",
    "x_train.iloc[:,0:1] = sc_time.transform(x_train.iloc[:,0:1])\n",
    "x_test.iloc[:,0:1] = sc_time.transform(x_test.iloc[:,0:1])\n",
    "\n",
    "sc_amount = RobustScaler()\n",
    "sc_amount.fit(x_train.iloc[:,-1:])\n",
    "x_train.iloc[:,-1:] = sc_amount.transform(x_train.iloc[:,-1:])\n",
    "x_test.iloc[:,-1:]= sc_amount.transform(x_test.iloc[:,-1:])"
   ]
  },
  {
   "cell_type": "code",
   "execution_count": 6,
   "metadata": {},
   "outputs": [],
   "source": [
    "# Split training set into sub-training set for undersampling and validation set to prevent data leakage\n",
    "x_subtrain, x_val, y_subtrain, y_val = train_test_split(x_train, y_train, test_size=0.2)"
   ]
  },
  {
   "cell_type": "code",
   "execution_count": 7,
   "metadata": {},
   "outputs": [],
   "source": [
    "from imblearn.under_sampling import NearMiss\n",
    "from imblearn.under_sampling import CondensedNearestNeighbour\n",
    "from imblearn.under_sampling import TomekLinks"
   ]
  },
  {
   "cell_type": "code",
   "execution_count": 8,
   "metadata": {},
   "outputs": [
    {
     "name": "stdout",
     "output_type": "stream",
     "text": [
      "Percentage of cases with class 1 for training:0.5000\n",
      "Percentage of cases with class 1 for testing:0.0017 \n",
      "\n"
     ]
    }
   ],
   "source": [
    "\n",
    "# Undersampling majority class using random undersampler and training set is used for validation during training\n",
    "\n",
    "undersamp = RandomUnderSampler(sampling_strategy='majority')\n",
    "#undersamp = NearMiss(version=1, n_neighbors=3)\n",
    "#undersamp = CondensedNearestNeighbour(n_neighbors=1)\n",
    "#undersamp = TomekLinks()\n",
    "\n",
    "x_subtrain_undersamp, y_subtrain_undersamp = undersamp.fit_resample(x_subtrain, y_subtrain)\n",
    "print (\"Percentage of cases with class 1 for training:{:.4f}\".format(np.sum(y_subtrain_undersamp==1)/len(y_subtrain_undersamp)))\n",
    "print (\"Percentage of cases with class 1 for testing:{:.4f}\".format(np.sum(y_test==1)/len(y_test)), \"\\n\")"
   ]
  },
  {
   "cell_type": "code",
   "execution_count": 9,
   "metadata": {},
   "outputs": [
    {
     "name": "stdout",
     "output_type": "stream",
     "text": [
      "# Fraud in training:  303\n",
      "# Non-fraud in training:  303\n",
      "# Fraud in validation:  91\n",
      "# Non-fraud in validation:  45478\n",
      "# Fraud in test:  98\n",
      "# Non-fraud in test:  56864\n"
     ]
    }
   ],
   "source": [
    "#print (\"# Fraud in training: \", np.sum(y_subtrain_undersamp==1))\n",
    "#print (\"# Non-fraud in training: \", np.sum(y_subtrain_undersamp==0))\n",
    "#print (\"# Fraud in testing: \", np.sum(y_test==1))\n",
    "#print (\"# Non-fraud in testing: \", np.sum(y_test==0))\n",
    "\n",
    "print (\"# Fraud in training: \", np.sum(y_subtrain_undersamp==1))\n",
    "print (\"# Non-fraud in training: \", np.sum(y_subtrain_undersamp==0))\n",
    "print (\"# Fraud in validation: \", np.sum(y_val==1))\n",
    "print (\"# Non-fraud in validation: \", np.sum(y_val==0))\n",
    "print (\"# Fraud in test: \", np.sum(y_test==1))\n",
    "print (\"# Non-fraud in test: \", np.sum(y_test==0))"
   ]
  },
  {
   "cell_type": "markdown",
   "metadata": {},
   "source": [
    "## LightGBM"
   ]
  },
  {
   "cell_type": "code",
   "execution_count": 10,
   "metadata": {},
   "outputs": [],
   "source": [
    "#Import LightGBM model\n",
    "from lightgbm import LGBMClassifier"
   ]
  },
  {
   "cell_type": "code",
   "execution_count": 11,
   "metadata": {},
   "outputs": [],
   "source": [
    "#Create a gbm Classifier\n",
    "lgbm = LGBMClassifier()\n",
    "\n"
   ]
  },
  {
   "cell_type": "code",
   "execution_count": 12,
   "metadata": {},
   "outputs": [
    {
     "data": {
      "text/plain": [
       "LGBMClassifier()"
      ]
     },
     "execution_count": 12,
     "metadata": {},
     "output_type": "execute_result"
    }
   ],
   "source": [
    "#Train the model using the training sets\n",
    "lgbm.fit(x_subtrain_undersamp, y_subtrain_undersamp)\n"
   ]
  },
  {
   "cell_type": "code",
   "execution_count": 13,
   "metadata": {},
   "outputs": [],
   "source": [
    "from sklearn.metrics import average_precision_score\n",
    "from sklearn.metrics import roc_auc_score\n",
    "from sklearn.metrics import roc_curve\n",
    "from sklearn.metrics import accuracy_score\n",
    "from sklearn.metrics import auc"
   ]
  },
  {
   "cell_type": "code",
   "execution_count": 14,
   "metadata": {},
   "outputs": [
    {
     "name": "stdout",
     "output_type": "stream",
     "text": [
      "Confusion matrix:\n",
      " [[54888  1976]\n",
      " [    7    91]]\n",
      "\n",
      "\n",
      "accuracy: 0.97\n",
      "precision: 0.04\n",
      "recall: 0.93\n",
      "f1 score: 0.08\n",
      "Average precision: 0.04\n",
      "AUC-ROC: 0.95\n",
      "Logistic PR AUC: 0.486\n"
     ]
    }
   ],
   "source": [
    "#Predict the response for test dataset\n",
    "\n",
    "y_pred_lgbm = lgbm.predict(x_test)\n",
    "\n",
    "cm = confusion_matrix(y_test, y_pred_lgbm)\n",
    "print (\"Confusion matrix:\\n\", cm)\n",
    "print (\"\\n\")\n",
    "\n",
    "precision, recall, _ = precision_recall_curve(y_test, y_pred_lgbm)\n",
    "\n",
    "print (\"accuracy: {:.2f}\".format(accuracy_score(y_test, y_pred_lgbm)))\n",
    "print (\"precision: {:.2f}\".format(precision_score(y_test, y_pred_lgbm)))\n",
    "print (\"recall: {:.2f}\".format(recall_score(y_test, y_pred_lgbm)))\n",
    "print (\"f1 score: {:.2f}\".format(f1_score(y_test, y_pred_lgbm)))\n",
    "print (\"Average precision: {:.2f}\".format(average_precision_score(y_test, y_pred_lgbm)))\n",
    "print (\"AUC-ROC: {:.2f}\".format(roc_auc_score(y_test, y_pred_lgbm)))\n",
    "\n",
    "auc_score = auc(recall, precision)\n",
    "print('Logistic PR AUC: %.3f' % auc_score)"
   ]
  },
  {
   "cell_type": "code",
   "execution_count": 15,
   "metadata": {},
   "outputs": [
    {
     "data": {
      "image/png": "[encoded data removed]",
      "text/plain": [
       "<Figure size 432x288 with 1 Axes>"
      ]
     },
     "metadata": {
      "needs_background": "light"
     },
     "output_type": "display_data"
    }
   ],
   "source": [
    "fpr, tpr, _ = roc_curve(y_test, y_pred_lgbm)\n",
    "# plot the roc curve for the model\n",
    "\n",
    "plt.plot(fpr, tpr)\n",
    "# axis labels\n",
    "plt.xlabel('False Positive Rate')\n",
    "plt.ylabel('True Positive Rate')\n",
    "plt.title(\"ROC Curve\")\n",
    "# show the legend\n",
    "#plt.legend()\n",
    "# show the plot\n",
    "plt.show()"
   ]
  },
  {
   "cell_type": "code",
   "execution_count": 16,
   "metadata": {},
   "outputs": [
    {
     "data": {
      "image/png": "[encoded data removed]",
      "text/plain": [
       "<Figure size 432x288 with 1 Axes>"
      ]
     },
     "metadata": {
      "needs_background": "light"
     },
     "output_type": "display_data"
    }
   ],
   "source": [
    "plt.plot(recall, precision)\n",
    "plt.title(\"Precision-recall Curve\")\n",
    "plt.xlabel(\"Recall\")\n",
    "plt.ylabel(\"Precision\")\n",
    "plt.show()"
   ]
  },
  {
   "cell_type": "code",
   "execution_count": null,
   "metadata": {},
   "outputs": [],
   "source": []
  }
 ],
 "metadata": {
  "kernelspec": {
   "display_name": "Python 3",
   "language": "python",
   "name": "python3"
  },
  "language_info": {
   "codemirror_mode": {
    "name": "ipython",
    "version": 3
   },
   "file_extension": ".py",
   "mimetype": "text/x-python",
   "name": "python",
   "nbconvert_exporter": "python",
   "pygments_lexer": "ipython3",
   "version": "3.8.8"
  }
 },
 "nbformat": 4,
 "nbformat_minor": 2
}
